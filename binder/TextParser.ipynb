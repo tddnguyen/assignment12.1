{
 "cells": [
  {
   "cell_type": "code",
   "execution_count": 6,
   "id": "cf7c5c75",
   "metadata": {},
   "outputs": [],
   "source": [
    "import string\n",
    "import csv\n",
    "\n",
    "def strip_punctuation(line):\n",
    "    for character in string.punctuation:\n",
    "        line = line.replace(character, \"\")\n",
    "    return line"
   ]
  },
  {
   "cell_type": "code",
   "execution_count": 7,
   "id": "4e9dfdb7",
   "metadata": {},
   "outputs": [
    {
     "name": "stdout",
     "output_type": "stream",
     "text": [
      "Enter file name: test.txt\n"
     ]
    }
   ],
   "source": [
    "fileName = input(\"Enter file name: \")\n",
    "\n",
    "word_count = {}"
   ]
  },
  {
   "cell_type": "code",
   "execution_count": 8,
   "id": "1ed044a9",
   "metadata": {},
   "outputs": [],
   "source": [
    "with open(fileName, 'r') as contents:\n",
    "    for line in contents:\n",
    "        line = strip_punctuation(line)\n",
    "        words = line.split()\n",
    "        \n",
    "        for word in words:\n",
    "            word = word.lower()\n",
    "            if word not in word_count:\n",
    "                word_count[word] = 1\n",
    "            word_count[word] += 1\n"
   ]
  },
  {
   "cell_type": "code",
   "execution_count": 9,
   "id": "c7c5bef3",
   "metadata": {},
   "outputs": [],
   "source": [
    "def order_by_frequency(dictionary):\n",
    "    sorted_values = []\n",
    "    for key in dictionary:\n",
    "        sorted_values.append((dictionary[key], key))\n",
    "    sorted_values = sorted(sorted_values)\n",
    "    sorted_values = sorted_values[::-1]\n",
    "    return sorted_values"
   ]
  },
  {
   "cell_type": "code",
   "execution_count": 10,
   "id": "b70031d3",
   "metadata": {},
   "outputs": [],
   "source": [
    "topWords = order_by_frequency(word_count)\n",
    "with open(\"datatest.csv\", \"w\") as f_out:\n",
    "    writer = csv.writer(f_out)\n",
    "    writer.writerows(topWords)"
   ]
  }
 ],
 "metadata": {
  "kernelspec": {
   "display_name": "Python 3",
   "language": "python",
   "name": "python3"
  },
  "language_info": {
   "codemirror_mode": {
    "name": "ipython",
    "version": 3
   },
   "file_extension": ".py",
   "mimetype": "text/x-python",
   "name": "python",
   "nbconvert_exporter": "python",
   "pygments_lexer": "ipython3",
   "version": "3.6.15"
  }
 },
 "nbformat": 4,
 "nbformat_minor": 5
}
