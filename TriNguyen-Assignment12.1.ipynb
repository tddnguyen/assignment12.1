{
 "cells": [
  {
   "cell_type": "code",
   "execution_count": 6,
   "id": "be842cf8",
   "metadata": {},
   "outputs": [
    {
     "name": "stdout",
     "output_type": "stream",
     "text": [
      "Please provide file name: none.txt\n",
      "The file  none.txt  cannot be opened at this time.\n"
     ]
    }
   ],
   "source": [
    "# DATA 620 Assignment 12.6\n",
    "# Written by Tri Nguyen\n",
    "# Prof. Majed AL-Ghandour\n",
    "# Last Updated April 28, 2023\n",
    "# Description: The following code will open a file based on a file name provided by the user, \n",
    "# parse each unique word from the file and add it to a list, after which it will be sorted \n",
    "# alphabetically. The first cell does the extraction and sorting, the second cell will print it.\n",
    "\n",
    "import string\n",
    "\n",
    "listUnique = dict()\n",
    "\n",
    "userFile = input(\"Please provide file name: \")\n",
    "\n",
    "try:\n",
    "    file = open(userFile, 'r')\n",
    "    file = file.read()\n",
    "    \n",
    "    if len(file) == 0:\n",
    "        print (\"File is Empty\")\n",
    "    else:\n",
    "        # Strips punctuation from the line by checking with string.punctuation library,\n",
    "        # uses the split() function to split each word in each string and enters it into a list\n",
    "        currentLine = file.translate(str.maketrans('', '', string.punctuation))\n",
    "        newLine = currentLine.split()\n",
    "        # for loop that checks if count of word against value checkList. If the count is greater than 0,\n",
    "        # it is skipped. Otherwise it is added to the list and the count is reset to 0 for the next word\n",
    "        for word in newLine:\n",
    "            if word not in listUnique:\n",
    "                listUnique.append(word)\n",
    "                listUnique[word] = 1\n",
    "            else:\n",
    "                listUnique[word] += 1\n",
    "\n",
    "    if len(listUnique) == 0:\n",
    "        print (\"There are no words to list.\")\n",
    "except:\n",
    "    print(\"The file \",userFile,\" cannot be opened at this time.\")\n",
    "    exit()\n",
    "    \n"
   ]
  }
 ],
 "metadata": {
  "kernelspec": {
   "display_name": "Python 3",
   "language": "python",
   "name": "python3"
  },
  "language_info": {
   "codemirror_mode": {
    "name": "ipython",
    "version": 3
   },
   "file_extension": ".py",
   "mimetype": "text/x-python",
   "name": "python",
   "nbconvert_exporter": "python",
   "pygments_lexer": "ipython3",
   "version": "3.6.15"
  }
 },
 "nbformat": 4,
 "nbformat_minor": 5
}
